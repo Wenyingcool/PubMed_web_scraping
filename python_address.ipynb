{
 "cells": [
  {
   "cell_type": "code",
   "execution_count": 1,
   "metadata": {},
   "outputs": [
    {
     "name": "stdout",
     "output_type": "stream",
     "text": [
      "Data has been written to /Users/weizhikexuejia/Documents/for mac/python/scikit py/pubmed_search_results.xlsx\n"
     ]
    }
   ],
   "source": [
    "import requests\n",
    "from bs4 import BeautifulSoup\n",
    "from openpyxl import Workbook\n",
    "\n",
    "# Initialize a workbook and select the active worksheet\n",
    "wb = Workbook()\n",
    "ws = wb.active\n",
    "\n",
    "# Set the headers of the columns\n",
    "ws.append(['Title', 'Address'])\n",
    "\n",
    "# The base URL for PubMed\n",
    "base_url = \"https://pubmed.ncbi.nlm.nih.gov\"\n",
    "\n",
    "# Number of results we want to fetch\n",
    "total_results = 60\n",
    "results_per_page = 10  # Assume 10 results per page, adjust if different\n",
    "pages_to_fetch = total_results // results_per_page\n",
    "\n",
    "# Set the headers to mimic a browser request\n",
    "headers = {\n",
    "    'User-Agent': 'Mozilla/5.0 (Windows NT 10.0; Win64; x64) AppleWebKit/537.36 (KHTML, like Gecko) Chrome/58.0.3029.110 Safari/537.3'}\n",
    "\n",
    "# Loop through the required number of pages to fetch 60 results\n",
    "for page in range(1, pages_to_fetch + 1):\n",
    "    search_url = f\"{base_url}/?term=(ex-gaussian[Title/Abstract])+AND+(reaction+time[Title/Abstract])&page={page}\"\n",
    "    response = requests.get(search_url, headers=headers)\n",
    "\n",
    "    # Check if the request was successful\n",
    "    if response.status_code == 200:\n",
    "        soup = BeautifulSoup(response.content, 'html.parser')\n",
    "\n",
    "        # Find all titles using the 'docsum-title' class\n",
    "        titles = soup.find_all('a', class_=\"docsum-title\")\n",
    "\n",
    "        # Iterate through each title to get the text and link\n",
    "        for title in titles:\n",
    "            title_text = title.get_text(strip=True)\n",
    "            link = base_url + title['href']\n",
    "            ws.append([title_text, link])  # Append the data to the worksheet\n",
    "    else:\n",
    "        print(f\"Failed to retrieve the webpage for page {page}\")\n",
    "\n",
    "# Define the path for the new Excel file\n",
    "excel_file_path = '/Users/weizhikexuejia/Documents/for mac/python/scikit py/pubmed_search_results.xlsx'  # Change to your preferred path\n",
    "\n",
    "# Save the workbook\n",
    "wb.save(excel_file_path)\n",
    "\n",
    "print(f\"Data has been written to {excel_file_path}\")"
   ]
  }
 ],
 "metadata": {
  "kernelspec": {
   "display_name": "base",
   "language": "python",
   "name": "python3"
  },
  "language_info": {
   "codemirror_mode": {
    "name": "ipython",
    "version": 3
   },
   "file_extension": ".py",
   "mimetype": "text/x-python",
   "name": "python",
   "nbconvert_exporter": "python",
   "pygments_lexer": "ipython3",
   "version": "3.11.6"
  }
 },
 "nbformat": 4,
 "nbformat_minor": 2
}
